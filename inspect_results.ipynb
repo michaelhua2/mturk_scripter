{
 "cells": [
  {
   "cell_type": "code",
   "execution_count": 2,
   "id": "08280982",
   "metadata": {},
   "outputs": [],
   "source": [
    "import json\n",
    "\n",
    "json_path = 'results.json'\n",
    "with open(json_path, 'r') as f:\n",
    "    data = json.load(f)"
   ]
  },
  {
   "cell_type": "code",
   "execution_count": 8,
   "id": "5fe7df1d",
   "metadata": {},
   "outputs": [
    {
     "data": {
      "text/plain": [
       "dict_keys(['l_counts', 'l_comments', 'ours_vs_sd21', 'ours_vs_dalton', 'ours_vs_jiabin'])"
      ]
     },
     "execution_count": 8,
     "metadata": {},
     "output_type": "execute_result"
    }
   ],
   "source": [
    "data.keys()"
   ]
  },
  {
   "cell_type": "code",
   "execution_count": 4,
   "id": "ee8e8fd3",
   "metadata": {},
   "outputs": [
    {
     "name": "stdout",
     "output_type": "stream",
     "text": [
      "ours_vs_sd21: 0.564\n",
      "ours_vs_dalton: 0.5766666666666668\n",
      "ours_vs_jiabin: 0.598\n"
     ]
    }
   ],
   "source": [
    "comparisons = ['ours_vs_sd21', 'ours_vs_dalton', 'ours_vs_jiabin']\n",
    "for comparison in comparisons:\n",
    "    print(f\"{comparison}: {data[comparison]['mean']}\")\n",
    "\n",
    "\n",
    "# for comparison in comparisons:\n",
    "#     for i in range(50):\n",
    "#         for seed in range(5):\n",
    "#             idx_seed = f\"{i}_{seed}_\" \n",
    "#             num_responses = len(data[comparison][idx_seed]['raw'])\n",
    "#             if num_responses < 3:\n",
    "#                 print(f\"Missing {3-num_responses} for {idx_seed} in {comparison}\")\n",
    "\n"
   ]
  }
 ],
 "metadata": {
  "kernelspec": {
   "display_name": "onboarding",
   "language": "python",
   "name": "python3"
  },
  "language_info": {
   "codemirror_mode": {
    "name": "ipython",
    "version": 3
   },
   "file_extension": ".py",
   "mimetype": "text/x-python",
   "name": "python",
   "nbconvert_exporter": "python",
   "pygments_lexer": "ipython3",
   "version": "undefined.undefined.undefined"
  }
 },
 "nbformat": 4,
 "nbformat_minor": 5
}
